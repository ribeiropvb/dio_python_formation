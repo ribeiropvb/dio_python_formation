{
 "cells": [
  {
   "cell_type": "code",
   "execution_count": 2,
   "metadata": {},
   "outputs": [],
   "source": [
    "import time\n",
    "import pandas as pd"
   ]
  },
  {
   "cell_type": "markdown",
   "metadata": {},
   "source": [
    "# Definições Iniciais"
   ]
  },
  {
   "cell_type": "code",
   "execution_count": 3,
   "metadata": {},
   "outputs": [],
   "source": [
    "limite_valor_saque = 500\n",
    "limite_n_saque = 3"
   ]
  },
  {
   "cell_type": "markdown",
   "metadata": {},
   "source": [
    "### Tabela do Usuário e Conta"
   ]
  },
  {
   "cell_type": "code",
   "execution_count": 197,
   "metadata": {},
   "outputs": [
    {
     "data": {
      "text/html": [
       "<div>\n",
       "<style scoped>\n",
       "    .dataframe tbody tr th:only-of-type {\n",
       "        vertical-align: middle;\n",
       "    }\n",
       "\n",
       "    .dataframe tbody tr th {\n",
       "        vertical-align: top;\n",
       "    }\n",
       "\n",
       "    .dataframe thead th {\n",
       "        text-align: right;\n",
       "    }\n",
       "</style>\n",
       "<table border=\"1\" class=\"dataframe\">\n",
       "  <thead>\n",
       "    <tr style=\"text-align: right;\">\n",
       "      <th></th>\n",
       "      <th>IdUsuario</th>\n",
       "      <th>NomeUsuario</th>\n",
       "      <th>CpfUsuario</th>\n",
       "    </tr>\n",
       "  </thead>\n",
       "  <tbody>\n",
       "    <tr>\n",
       "      <th>0</th>\n",
       "      <td>1</td>\n",
       "      <td>Usuario1</td>\n",
       "      <td>11111111111</td>\n",
       "    </tr>\n",
       "  </tbody>\n",
       "</table>\n",
       "</div>"
      ],
      "text/plain": [
       "  IdUsuario NomeUsuario   CpfUsuario\n",
       "0         1    Usuario1  11111111111"
      ]
     },
     "execution_count": 197,
     "metadata": {},
     "output_type": "execute_result"
    }
   ],
   "source": [
    "df_usuario = pd.DataFrame(columns=['IdUsuario', 'NomeUsuario', 'CpfUsuario'])\n",
    "init_data = pd.DataFrame({\n",
    "                'IdUsuario': [1],\n",
    "                'NomeUsuario': ['Usuario1'],\n",
    "                'CpfUsuario': ['11111111111']\n",
    "            })\n",
    "df_usuario = pd.concat([df_usuario, init_data], ignore_index=True)\n",
    "df_usuario"
   ]
  },
  {
   "cell_type": "code",
   "execution_count": 210,
   "metadata": {},
   "outputs": [
    {
     "data": {
      "text/html": [
       "<div>\n",
       "<style scoped>\n",
       "    .dataframe tbody tr th:only-of-type {\n",
       "        vertical-align: middle;\n",
       "    }\n",
       "\n",
       "    .dataframe tbody tr th {\n",
       "        vertical-align: top;\n",
       "    }\n",
       "\n",
       "    .dataframe thead th {\n",
       "        text-align: right;\n",
       "    }\n",
       "</style>\n",
       "<table border=\"1\" class=\"dataframe\">\n",
       "  <thead>\n",
       "    <tr style=\"text-align: right;\">\n",
       "      <th></th>\n",
       "      <th>IdConta</th>\n",
       "      <th>IdUsuario</th>\n",
       "      <th>Agencia</th>\n",
       "      <th>NumeroConta</th>\n",
       "    </tr>\n",
       "  </thead>\n",
       "  <tbody>\n",
       "    <tr>\n",
       "      <th>0</th>\n",
       "      <td>1</td>\n",
       "      <td>1</td>\n",
       "      <td>0001</td>\n",
       "      <td>11111</td>\n",
       "    </tr>\n",
       "  </tbody>\n",
       "</table>\n",
       "</div>"
      ],
      "text/plain": [
       "  IdConta IdUsuario Agencia NumeroConta\n",
       "0       1         1    0001       11111"
      ]
     },
     "execution_count": 210,
     "metadata": {},
     "output_type": "execute_result"
    }
   ],
   "source": [
    "df_conta = pd.DataFrame(columns=['IdConta', 'IdUsuario', 'Agencia', 'NumeroConta'])\n",
    "init_data = pd.DataFrame({\n",
    "                'IdConta': [1],\n",
    "                'IdUsuario': [1],\n",
    "                'Agencia': ['0001'],\n",
    "                'NumeroConta': ['11111']\n",
    "            })\n",
    "df_conta = pd.concat([df_conta, init_data], ignore_index=True)\n",
    "df_conta"
   ]
  },
  {
   "cell_type": "markdown",
   "metadata": {},
   "source": [
    "### Tabela Referente a Conta do Usuário"
   ]
  },
  {
   "cell_type": "code",
   "execution_count": 211,
   "metadata": {},
   "outputs": [
    {
     "data": {
      "text/html": [
       "<div>\n",
       "<style scoped>\n",
       "    .dataframe tbody tr th:only-of-type {\n",
       "        vertical-align: middle;\n",
       "    }\n",
       "\n",
       "    .dataframe tbody tr th {\n",
       "        vertical-align: top;\n",
       "    }\n",
       "\n",
       "    .dataframe thead th {\n",
       "        text-align: right;\n",
       "    }\n",
       "</style>\n",
       "<table border=\"1\" class=\"dataframe\">\n",
       "  <thead>\n",
       "    <tr style=\"text-align: right;\">\n",
       "      <th></th>\n",
       "      <th>VinculoUsuario</th>\n",
       "      <th>VinculoConta</th>\n",
       "      <th>Valor_Conta</th>\n",
       "      <th>Data_Hora</th>\n",
       "      <th>Tipo_Operacao</th>\n",
       "    </tr>\n",
       "  </thead>\n",
       "  <tbody>\n",
       "    <tr>\n",
       "      <th>0</th>\n",
       "      <td>1</td>\n",
       "      <td>1</td>\n",
       "      <td>2000</td>\n",
       "      <td>21/02/2024 10:39</td>\n",
       "      <td>I</td>\n",
       "    </tr>\n",
       "  </tbody>\n",
       "</table>\n",
       "</div>"
      ],
      "text/plain": [
       "  VinculoUsuario VinculoConta Valor_Conta         Data_Hora Tipo_Operacao\n",
       "0              1            1        2000  21/02/2024 10:39             I"
      ]
     },
     "execution_count": 211,
     "metadata": {},
     "output_type": "execute_result"
    }
   ],
   "source": [
    "valor_inicial = 2000\n",
    "\n",
    "df_mov = pd.DataFrame(columns=['VinculoUsuario', 'VinculoConta', 'Valor_Conta', 'Data_Hora', 'Tipo_Operacao'])\n",
    "init_data = pd.DataFrame({'VinculoUsuario': [1],\n",
    "                          'VinculoConta': [1],\n",
    "                            'Valor_Conta': [valor_inicial],\n",
    "                            'Data_Hora': [time.strftime(\"%d/%m/%Y %H:%M\")],\n",
    "                            'Tipo_Operacao': ['I']})\n",
    "df_mov = pd.concat([df_mov, init_data], ignore_index=True)\n",
    "df_mov"
   ]
  },
  {
   "cell_type": "markdown",
   "metadata": {},
   "source": [
    "# Definição das funções operacionais"
   ]
  },
  {
   "cell_type": "markdown",
   "metadata": {},
   "source": [
    "### Cadastro Usuario"
   ]
  },
  {
   "cell_type": "code",
   "execution_count": 200,
   "metadata": {},
   "outputs": [],
   "source": [
    "def valida_cpf(cpf):\n",
    "    \"\"\"\n",
    "    Valida um CPF, retornando True se for válido e False caso contrário.\n",
    "    Não será removido o caso de dígitos iguais, pois eles serão utilizados como exemplo\n",
    "    \"\"\"\n",
    "    # Removendo caracteres não numéricos\n",
    "    cpf = ''.join(filter(str.isdigit, cpf))\n",
    "    \n",
    "    # Verifica se o CPF tem 11 dígitos\n",
    "    if len(cpf) != 11:\n",
    "        return False\n",
    "\n",
    "    for i in range(9, 11):\n",
    "        valor = sum((int(cpf[num]) * ((i+1) - num) for num in range(0, i)))\n",
    "        digito = ((valor * 10) % 11) % 10\n",
    "        if str(digito) != cpf[i]:\n",
    "            return False\n",
    "    return True\n",
    "\n",
    "def CadastraUsuario(df_cad, Nome, CPF):\n",
    "\n",
    "    if CPF in df_cad['CpfUsuario'].values:\n",
    "        print(\"Erro: CPF já cadastrado.\")\n",
    "        return df_cad\n",
    "\n",
    "    if not valida_cpf(CPF):\n",
    "        print(\"Erro: CPF inválido.\")\n",
    "        return df_cad\n",
    "    novo_id = df_cad['IdUsuario'].max() + 1 if not df_cad.empty else 1\n",
    "    UserData = pd.DataFrame({\n",
    "        'IdUsuario': [novo_id],\n",
    "        'NomeUsuario': [Nome],\n",
    "        'CpfUsuario': [CPF]\n",
    "    })\n",
    "    # Atualização correta do DataFrame\n",
    "    df_atualizado = pd.concat([df_cad, UserData], ignore_index=True)\n",
    "    return df_atualizado"
   ]
  },
  {
   "cell_type": "code",
   "execution_count": 201,
   "metadata": {},
   "outputs": [
    {
     "data": {
      "text/html": [
       "<div>\n",
       "<style scoped>\n",
       "    .dataframe tbody tr th:only-of-type {\n",
       "        vertical-align: middle;\n",
       "    }\n",
       "\n",
       "    .dataframe tbody tr th {\n",
       "        vertical-align: top;\n",
       "    }\n",
       "\n",
       "    .dataframe thead th {\n",
       "        text-align: right;\n",
       "    }\n",
       "</style>\n",
       "<table border=\"1\" class=\"dataframe\">\n",
       "  <thead>\n",
       "    <tr style=\"text-align: right;\">\n",
       "      <th></th>\n",
       "      <th>IdUsuario</th>\n",
       "      <th>NomeUsuario</th>\n",
       "      <th>CpfUsuario</th>\n",
       "    </tr>\n",
       "  </thead>\n",
       "  <tbody>\n",
       "    <tr>\n",
       "      <th>0</th>\n",
       "      <td>1</td>\n",
       "      <td>Usuario1</td>\n",
       "      <td>11111111111</td>\n",
       "    </tr>\n",
       "    <tr>\n",
       "      <th>1</th>\n",
       "      <td>2</td>\n",
       "      <td>Usuario2</td>\n",
       "      <td>22222222222</td>\n",
       "    </tr>\n",
       "    <tr>\n",
       "      <th>2</th>\n",
       "      <td>3</td>\n",
       "      <td>Usuario3</td>\n",
       "      <td>33333333333</td>\n",
       "    </tr>\n",
       "  </tbody>\n",
       "</table>\n",
       "</div>"
      ],
      "text/plain": [
       "  IdUsuario NomeUsuario   CpfUsuario\n",
       "0         1    Usuario1  11111111111\n",
       "1         2    Usuario2  22222222222\n",
       "2         3    Usuario3  33333333333"
      ]
     },
     "execution_count": 201,
     "metadata": {},
     "output_type": "execute_result"
    }
   ],
   "source": [
    "df_usuario = CadastraUsuario(df_usuario, 'Usuario2', '22222222222')\n",
    "df_usuario = CadastraUsuario(df_usuario, 'Usuario3', '33333333333')\n",
    "df_usuario"
   ]
  },
  {
   "cell_type": "markdown",
   "metadata": {},
   "source": [
    "### Cadastro Conta"
   ]
  },
  {
   "cell_type": "code",
   "execution_count": 204,
   "metadata": {},
   "outputs": [
    {
     "data": {
      "text/plain": [
       "4"
      ]
     },
     "execution_count": 204,
     "metadata": {},
     "output_type": "execute_result"
    }
   ],
   "source": [
    "def encontrar_id_conta(df_conta, Cpf, agencia, numero_conta):\n",
    "\n",
    "    id_usuario = df_usuario.loc[df_usuario['CpfUsuario'] == Cpf, 'IdUsuario'].values[0]\n",
    "    conta_filtrada = df_conta[\n",
    "        (df_conta['IdUsuario'] == id_usuario) & \n",
    "        (df_conta['Agencia'] == agencia) & \n",
    "        (df_conta['NumeroConta'] == numero_conta)\n",
    "    ]\n",
    "    \n",
    "    # Verificando se foi encontrada alguma conta que corresponda aos critérios\n",
    "    if not conta_filtrada.empty:\n",
    "        # Retornando o IdConta da primeira (e presumivelmente única) linha correspondente\n",
    "        return conta_filtrada['IdConta'].iloc[0]\n",
    "    else:\n",
    "        # Caso não encontre uma conta que corresponda, retorna um valor indicativo, como None\n",
    "        return None\n",
    "\n",
    "encontrar_id_conta(df_conta, '33333333333', '0002', '33333')"
   ]
  },
  {
   "cell_type": "code",
   "execution_count": 207,
   "metadata": {},
   "outputs": [],
   "source": [
    "def LocalizarId(df_usuario, CpfEntrada):\n",
    "    Id = df_usuario.loc[df_usuario['CpfUsuario'] == CpfEntrada, 'IdUsuario'].values[0]\n",
    "    return Id\n",
    "\n",
    "def CadastraConta(df_cad, Cpf, Agencia, NumeroConta):\n",
    "\n",
    "    IdUsuario = LocalizarId(df_usuario, Cpf)\n",
    "    existencia = df_conta[(df_conta['Agencia'] == Agencia) & (df_conta['NumeroConta'] == NumeroConta)].any().any()\n",
    "\n",
    "    if existencia:\n",
    "        print(\"Erro: Agencia e Conta já Existe.\")\n",
    "        return df_cad\n",
    "\n",
    "    if IdUsuario in df_cad['Agencia'].values:\n",
    "        print(\"Erro: CPF já possui uma Conta.\")\n",
    "        return df_cad\n",
    "\n",
    "    novo_id = df_cad['IdConta'].max() + 1 if not df_cad.empty else 1\n",
    "    ContaData = pd.DataFrame({\n",
    "        'IdConta': novo_id,\n",
    "        'IdUsuario': [IdUsuario],\n",
    "        'Agencia': [Agencia],\n",
    "        'NumeroConta': [NumeroConta]\n",
    "    })\n",
    "\n",
    "    global df_mov\n",
    "    init_data = pd.DataFrame({'VinculoUsuario': IdUsuario,\n",
    "                              'VinculoConta': novo_id,\n",
    "                                'Valor_Conta': [0],\n",
    "                                'Data_Hora': [time.strftime(\"%d/%m/%Y %H:%M\")],\n",
    "                                'Tipo_Operacao': ['I']})\n",
    "\n",
    "    df_mov = pd.concat([df_mov, init_data], ignore_index=True)\n",
    "    df_mov\n",
    "\n",
    "    df_atualizado = pd.concat([df_cad, ContaData], ignore_index=True)\n",
    "    return df_atualizado"
   ]
  },
  {
   "cell_type": "code",
   "execution_count": 212,
   "metadata": {},
   "outputs": [
    {
     "data": {
      "text/html": [
       "<div>\n",
       "<style scoped>\n",
       "    .dataframe tbody tr th:only-of-type {\n",
       "        vertical-align: middle;\n",
       "    }\n",
       "\n",
       "    .dataframe tbody tr th {\n",
       "        vertical-align: top;\n",
       "    }\n",
       "\n",
       "    .dataframe thead th {\n",
       "        text-align: right;\n",
       "    }\n",
       "</style>\n",
       "<table border=\"1\" class=\"dataframe\">\n",
       "  <thead>\n",
       "    <tr style=\"text-align: right;\">\n",
       "      <th></th>\n",
       "      <th>IdConta</th>\n",
       "      <th>IdUsuario</th>\n",
       "      <th>Agencia</th>\n",
       "      <th>NumeroConta</th>\n",
       "    </tr>\n",
       "  </thead>\n",
       "  <tbody>\n",
       "    <tr>\n",
       "      <th>0</th>\n",
       "      <td>1</td>\n",
       "      <td>1</td>\n",
       "      <td>0001</td>\n",
       "      <td>11111</td>\n",
       "    </tr>\n",
       "    <tr>\n",
       "      <th>1</th>\n",
       "      <td>2</td>\n",
       "      <td>2</td>\n",
       "      <td>0001</td>\n",
       "      <td>22222</td>\n",
       "    </tr>\n",
       "    <tr>\n",
       "      <th>2</th>\n",
       "      <td>3</td>\n",
       "      <td>3</td>\n",
       "      <td>0001</td>\n",
       "      <td>33333</td>\n",
       "    </tr>\n",
       "    <tr>\n",
       "      <th>3</th>\n",
       "      <td>4</td>\n",
       "      <td>3</td>\n",
       "      <td>0002</td>\n",
       "      <td>33333</td>\n",
       "    </tr>\n",
       "  </tbody>\n",
       "</table>\n",
       "</div>"
      ],
      "text/plain": [
       "  IdConta IdUsuario Agencia NumeroConta\n",
       "0       1         1    0001       11111\n",
       "1       2         2    0001       22222\n",
       "2       3         3    0001       33333\n",
       "3       4         3    0002       33333"
      ]
     },
     "execution_count": 212,
     "metadata": {},
     "output_type": "execute_result"
    }
   ],
   "source": [
    "df_conta = CadastraConta(df_conta, '22222222222', '0001', '22222')\n",
    "df_conta = CadastraConta(df_conta, '33333333333', '0001', '33333')\n",
    "df_conta = CadastraConta(df_conta, '33333333333', '0002', '33333')\n",
    "df_conta"
   ]
  },
  {
   "cell_type": "markdown",
   "metadata": {},
   "source": [
    "## Operação Depósito"
   ]
  },
  {
   "cell_type": "code",
   "execution_count": 215,
   "metadata": {},
   "outputs": [],
   "source": [
    "def operacao_deposito(valor_deposito, Cpf, Agencia, NumeroConta, df):\n",
    "    # Check if the input is numeric\n",
    "    try:\n",
    "        valor_deposito = float(valor_deposito)\n",
    "    except ValueError:\n",
    "        print(\"\"\"\n",
    "              O valor informado não é um número válido, favor tentar novamente\n",
    "              ----------------------------------------------------------------------\n",
    "\n",
    "              Importante:\n",
    "              O presente sistema utiliza '.' como identificador decimal.\n",
    "              Para realizar o depósito, insira apenas um único valor numérico.  \n",
    "              Não utilize letras ou símbolos especiais.\n",
    "        \"\"\")\n",
    "        return df\n",
    "\n",
    "    IdUsuario = LocalizarId(df_usuario, Cpf)\n",
    "    IdConta = encontrar_id_conta(df_conta, Cpf, Agencia, NumeroConta)\n",
    "\n",
    "    if valor_deposito > 0:\n",
    "        current_datetime = time.strftime(\"%d/%m/%Y %H:%M\")\n",
    "\n",
    "        new_data = pd.DataFrame({'VinculoUsuario': [IdUsuario],\n",
    "                                 'VinculoConta': IdConta,\n",
    "                                 'Valor_Conta': [valor_deposito],\n",
    "                                 'Data_Hora': [current_datetime],\n",
    "                                 'Tipo_Operacao': ['D']})\n",
    "        df = pd.concat([df, new_data], ignore_index=True)\n",
    "\n",
    "        print(f'Depósito realizado em: {current_datetime}')\n",
    "        print(f'Depósito no valor de R$ {valor_deposito:.2f} realizado com sucesso.')\n",
    "    else:\n",
    "        print('Não é possível realizar um depósito nulo ou com valor negativo.')\n",
    "\n",
    "    return df"
   ]
  },
  {
   "cell_type": "markdown",
   "metadata": {},
   "source": [
    "## Operação Saque"
   ]
  },
  {
   "cell_type": "code",
   "execution_count": 225,
   "metadata": {},
   "outputs": [],
   "source": [
    "def operacao_saque(valor_saque, Cpf, Agencia, NumeroConta, df_transacoes):\n",
    "\n",
    "    IdUsuario = LocalizarId(df_usuario, Cpf)\n",
    "    IdConta = encontrar_id_conta(df_conta, Cpf, Agencia, NumeroConta)\n",
    "    saldo_conta = df_mov[(df_mov['VinculoUsuario'] == IdUsuario) & (df_mov['VinculoConta'] == IdConta)]['Valor_Conta'].sum()\n",
    "\n",
    "    if saldo_conta < valor_saque:\n",
    "        print(\"Saldo insuficiente para realizar o saque.\")\n",
    "        return df_transacoes\n",
    "\n",
    "    if valor_saque <= 0 or valor_saque > limite_valor_saque:\n",
    "        print(f\"Valor de saque inválido. O valor do saque não pode ser negativo ou maior do que R$ {limite_valor_saque:.2f}.\")\n",
    "        return df_transacoes\n",
    "\n",
    "    data_hoje = time.strftime(\"%d/%m/%Y\")\n",
    "    saques_hoje = df_transacoes[(df_transacoes['Data_Hora'].str[:10] == data_hoje) & (df_transacoes['Tipo_Operacao'] == 'S')].shape[0]\n",
    "    if saques_hoje >= limite_n_saque:\n",
    "        print(f\"Limite diário de saques atingido. Você já realizou {limite_n_saque:.0f} saques hoje.\")\n",
    "        return df_transacoes\n",
    "\n",
    "    saldo_conta -= valor_saque\n",
    "    current_datetime = time.strftime(\"%d/%m/%Y %H:%M\")\n",
    "\n",
    "    new_data = pd.DataFrame({'VinculoUsuario': [IdUsuario],\n",
    "                                'VinculoConta': IdConta,\n",
    "                                'Valor_Conta': [-valor_saque],\n",
    "                                'Data_Hora': [current_datetime],\n",
    "                                'Tipo_Operacao': ['S']})\n",
    "    df_transacoes = pd.concat([df_transacoes, new_data], ignore_index=True)\n",
    "    \n",
    "    print(f'Saque realizado em: {current_datetime}')\n",
    "    print(f'Saque no valor de R$ {valor_saque:.2f} realizado com sucesso.')\n",
    "\n",
    "    return df_transacoes"
   ]
  },
  {
   "cell_type": "markdown",
   "metadata": {},
   "source": [
    "## Operação Extrato"
   ]
  },
  {
   "cell_type": "code",
   "execution_count": 236,
   "metadata": {},
   "outputs": [],
   "source": [
    "def operacao_extrato(Cpf, Agencia, NumeroConta, df_transacoes):\n",
    "\n",
    "    IdUsuario = LocalizarId(df_usuario, Cpf)\n",
    "    IdConta = encontrar_id_conta(df_conta, Cpf, Agencia, NumeroConta)\n",
    "\n",
    "    filtro = (df_mov['VinculoUsuario'] == IdUsuario) & (df_mov['VinculoConta'] == IdConta)\n",
    "    df_transacoes = df_transacoes[filtro]\n",
    "\n",
    "    print(\"Extrato de transações:\")\n",
    "    for index, row in df_transacoes.iterrows():\n",
    "        valor_transacao = row['Valor_Conta']\n",
    "        if valor_transacao > 0:\n",
    "            tipo_transacao = \"Depósito\"\n",
    "        else:\n",
    "            tipo_transacao = \"Saque\"\n",
    "        print(f\"{tipo_transacao}: R$ {abs(valor_transacao):.2f} - Data/Hora: {row['Data_Hora']}\")\n",
    "\n",
    "    saldo_conta = df_transacoes['Valor_Conta'].sum()\n",
    "    print(f\"\\nSaldo atual da conta: R$ {saldo_conta:.2f}\")"
   ]
  }
 ],
 "metadata": {
  "kernelspec": {
   "display_name": "Python 3",
   "language": "python",
   "name": "python3"
  },
  "language_info": {
   "codemirror_mode": {
    "name": "ipython",
    "version": 3
   },
   "file_extension": ".py",
   "mimetype": "text/x-python",
   "name": "python",
   "nbconvert_exporter": "python",
   "pygments_lexer": "ipython3",
   "version": "3.11.4"
  }
 },
 "nbformat": 4,
 "nbformat_minor": 2
}
