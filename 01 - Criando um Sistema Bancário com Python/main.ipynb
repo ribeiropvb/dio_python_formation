{
 "cells": [
  {
   "cell_type": "code",
   "execution_count": 65,
   "metadata": {},
   "outputs": [],
   "source": [
    "import time\n",
    "import pandas as pd"
   ]
  },
  {
   "cell_type": "markdown",
   "metadata": {},
   "source": [
    "# Definição de constantes"
   ]
  },
  {
   "cell_type": "code",
   "execution_count": 66,
   "metadata": {},
   "outputs": [],
   "source": [
    "limite_valor_saque = 500\n",
    "limite_n_saque = 3"
   ]
  },
  {
   "cell_type": "code",
   "execution_count": 67,
   "metadata": {},
   "outputs": [
    {
     "data": {
      "text/html": [
       "<div>\n",
       "<style scoped>\n",
       "    .dataframe tbody tr th:only-of-type {\n",
       "        vertical-align: middle;\n",
       "    }\n",
       "\n",
       "    .dataframe tbody tr th {\n",
       "        vertical-align: top;\n",
       "    }\n",
       "\n",
       "    .dataframe thead th {\n",
       "        text-align: right;\n",
       "    }\n",
       "</style>\n",
       "<table border=\"1\" class=\"dataframe\">\n",
       "  <thead>\n",
       "    <tr style=\"text-align: right;\">\n",
       "      <th></th>\n",
       "      <th>Valor_Conta</th>\n",
       "      <th>Data_Hora</th>\n",
       "      <th>Tipo_Operacao</th>\n",
       "    </tr>\n",
       "  </thead>\n",
       "  <tbody>\n",
       "    <tr>\n",
       "      <th>0</th>\n",
       "      <td>2000</td>\n",
       "      <td>20/02/2024 08:27</td>\n",
       "      <td>I</td>\n",
       "    </tr>\n",
       "  </tbody>\n",
       "</table>\n",
       "</div>"
      ],
      "text/plain": [
       "  Valor_Conta         Data_Hora Tipo_Operacao\n",
       "0        2000  20/02/2024 08:27             I"
      ]
     },
     "execution_count": 67,
     "metadata": {},
     "output_type": "execute_result"
    }
   ],
   "source": [
    "valor_inicial = 2000\n",
    "\n",
    "df = pd.DataFrame(columns=['Valor_Conta', 'Data_Hora', 'Tipo_Operacao'])\n",
    "init_data = pd.DataFrame({'Valor_Conta': [valor_inicial],\n",
    "                            'Data_Hora': [time.strftime(\"%d/%m/%Y %H:%M\")],\n",
    "                            'Tipo_Operacao': ['I']})\n",
    "df = pd.concat([df, init_data], ignore_index=True)\n",
    "df"
   ]
  },
  {
   "cell_type": "markdown",
   "metadata": {},
   "source": [
    "# Definição das funções operacionais"
   ]
  },
  {
   "cell_type": "code",
   "execution_count": 68,
   "metadata": {},
   "outputs": [],
   "source": [
    "def operacao_deposito(valor_deposito, df):\n",
    "    # Check if the input is numeric\n",
    "    try:\n",
    "        valor_deposito = float(valor_deposito)\n",
    "    except ValueError:\n",
    "        print(\"\"\"\n",
    "              O valor informado não é um número válido, favor tentar novamente\n",
    "              ----------------------------------------------------------------------\n",
    "\n",
    "              Importante:\n",
    "              O presente sistema utiliza '.' como identificador decimal.\n",
    "              Para realizar o depósito, insira apenas um único valor numérico.  \n",
    "              Não utilize letras ou símbolos especiais.\n",
    "        \"\"\")\n",
    "        return df\n",
    "\n",
    "    if valor_deposito > 0:\n",
    "        current_datetime = time.strftime(\"%d/%m/%Y %H:%M\")\n",
    "\n",
    "        new_data = pd.DataFrame({'Valor_Conta': [valor_deposito],\n",
    "                                 'Data_Hora': [current_datetime],\n",
    "                                 'Tipo_Operacao': ['D']})\n",
    "        df = pd.concat([df, new_data], ignore_index=True)\n",
    "        print(f'Depósito realizado em: {current_datetime}')\n",
    "        print(f'Depósito no valor de R$ {valor_deposito:.2f} realizado com sucesso.')\n",
    "    else:\n",
    "        print('Não é possível realizar um depósito nulo ou com valor negativo.')\n",
    "\n",
    "    return df"
   ]
  },
  {
   "cell_type": "code",
   "execution_count": 69,
   "metadata": {},
   "outputs": [],
   "source": [
    "def operacao_saque(valor_saque, df_transacoes):\n",
    "    # Limite de 3 saques diários com limite de no máximo de 500/saque\n",
    "    # Caso não tenha saldo em conta, o sistema deve exibir uma mensagem\n",
    "    # Todos os saque devem ser armazenados em uma variável e exibidos na operação de Extrato\n",
    "\n",
    "    # Verificar se há saldo suficiente\n",
    "    saldo_conta = df_transacoes['Valor_Conta'].sum()\n",
    "    if saldo_conta < valor_saque:\n",
    "        print(\"Saldo insuficiente para realizar o saque.\")\n",
    "        return df_transacoes\n",
    "\n",
    "    # Verificar se o valor do saque é válido\n",
    "    if valor_saque <= 0 or valor_saque > limite_valor_saque:\n",
    "        print(f\"Valor de saque inválido. O valor do saque não pode ser negativo ou maior do que R$ {limite_valor_saque:.2f}.\")\n",
    "        return df_transacoes\n",
    "\n",
    "    # Limitar a 3 saques diários\n",
    "    data_hoje = time.strftime(\"%d/%m/%Y\")\n",
    "    saques_hoje = df_transacoes[(df_transacoes['Data_Hora'].str[:10] == data_hoje) & (df_transacoes['Tipo_Operacao'] == 'S')].shape[0]\n",
    "    if saques_hoje >= limite_n_saque:\n",
    "        print(f\"Limite diário de saques atingido. Você já realizou {limite_n_saque:.0f} saques hoje.\")\n",
    "        return df_transacoes\n",
    "\n",
    "    # Atualizar o DataFrame de transações\n",
    "    saldo_conta -= valor_saque\n",
    "    current_datetime = time.strftime(\"%d/%m/%Y %H:%M\")\n",
    "\n",
    "    new_data = pd.DataFrame({'Valor_Conta': [-valor_saque],'Data_Hora': [current_datetime],'Tipo_Operacao': ['S']})\n",
    "    df_transacoes = pd.concat([df_transacoes, new_data], ignore_index=True)\n",
    "    \n",
    "    print(f'Saque realizado em: {current_datetime}')\n",
    "    print(f'Saque no valor de R$ {valor_saque:.2f} realizado com sucesso.')\n",
    "\n",
    "    return df_transacoes\n"
   ]
  },
  {
   "cell_type": "code",
   "execution_count": 70,
   "metadata": {},
   "outputs": [],
   "source": [
    "def operacao_extrato(df_transacoes):\n",
    "    # Essa operação deve listar todos os depósitos e saques realizados na conta\n",
    "    # No fim da listagem deve ser exibido o atual da conta\n",
    "    # Os valores devem ser exibidos utilizando o formato R$ xxx.xx\n",
    "\n",
    "    # Listar todos os depósitos e saques realizados na conta\n",
    "    print(\"Extrato de transações:\")\n",
    "    for index, row in df_transacoes.iterrows():\n",
    "        valor_transacao = row['Valor_Conta']\n",
    "        if valor_transacao > 0:\n",
    "            tipo_transacao = \"Depósito\"\n",
    "        else:\n",
    "            tipo_transacao = \"Saque\"\n",
    "        print(f\"{tipo_transacao}: R$ {abs(valor_transacao):.2f} - Data/Hora: {row['Data_Hora']}\")\n",
    "\n",
    "    # Exibir o saldo atual da conta\n",
    "    saldo_conta = df_transacoes['Valor_Conta'].sum()\n",
    "    print(f\"\\nSaldo atual da conta: R$ {saldo_conta:.2f}\")\n"
   ]
  },
  {
   "cell_type": "markdown",
   "metadata": {},
   "source": [
    "# Implementação"
   ]
  },
  {
   "cell_type": "markdown",
   "metadata": {},
   "source": [
    "## Depósito"
   ]
  },
  {
   "cell_type": "code",
   "execution_count": 71,
   "metadata": {},
   "outputs": [
    {
     "name": "stdout",
     "output_type": "stream",
     "text": [
      "Depósito realizado em: 20/02/2024 08:27\n",
      "Depósito no valor de R$ 100.50 realizado com sucesso.\n"
     ]
    },
    {
     "data": {
      "text/html": [
       "<div>\n",
       "<style scoped>\n",
       "    .dataframe tbody tr th:only-of-type {\n",
       "        vertical-align: middle;\n",
       "    }\n",
       "\n",
       "    .dataframe tbody tr th {\n",
       "        vertical-align: top;\n",
       "    }\n",
       "\n",
       "    .dataframe thead th {\n",
       "        text-align: right;\n",
       "    }\n",
       "</style>\n",
       "<table border=\"1\" class=\"dataframe\">\n",
       "  <thead>\n",
       "    <tr style=\"text-align: right;\">\n",
       "      <th></th>\n",
       "      <th>Valor_Conta</th>\n",
       "      <th>Data_Hora</th>\n",
       "      <th>Tipo_Operacao</th>\n",
       "    </tr>\n",
       "  </thead>\n",
       "  <tbody>\n",
       "    <tr>\n",
       "      <th>0</th>\n",
       "      <td>2000</td>\n",
       "      <td>20/02/2024 08:27</td>\n",
       "      <td>I</td>\n",
       "    </tr>\n",
       "    <tr>\n",
       "      <th>1</th>\n",
       "      <td>100.5</td>\n",
       "      <td>20/02/2024 08:27</td>\n",
       "      <td>D</td>\n",
       "    </tr>\n",
       "  </tbody>\n",
       "</table>\n",
       "</div>"
      ],
      "text/plain": [
       "  Valor_Conta         Data_Hora Tipo_Operacao\n",
       "0        2000  20/02/2024 08:27             I\n",
       "1       100.5  20/02/2024 08:27             D"
      ]
     },
     "execution_count": 71,
     "metadata": {},
     "output_type": "execute_result"
    }
   ],
   "source": [
    "df = operacao_deposito(100.50, df)\n",
    "df"
   ]
  },
  {
   "cell_type": "markdown",
   "metadata": {},
   "source": [
    "## Saque"
   ]
  },
  {
   "cell_type": "markdown",
   "metadata": {},
   "source": [
    "### Testar um saque válido"
   ]
  },
  {
   "cell_type": "code",
   "execution_count": 72,
   "metadata": {},
   "outputs": [
    {
     "name": "stdout",
     "output_type": "stream",
     "text": [
      "Saque realizado em: 20/02/2024 08:27\n",
      "Saque no valor de R$ 200.00 realizado com sucesso.\n",
      "Saldo atual da conta: 1900.5\n"
     ]
    }
   ],
   "source": [
    "df = operacao_saque(200, df)\n",
    "print(\"Saldo atual da conta:\", df['Valor_Conta'].sum())"
   ]
  },
  {
   "cell_type": "markdown",
   "metadata": {},
   "source": [
    "### Testar um saque inválido (valor maior que o saldo)"
   ]
  },
  {
   "cell_type": "code",
   "execution_count": 73,
   "metadata": {},
   "outputs": [
    {
     "name": "stdout",
     "output_type": "stream",
     "text": [
      "Valor de saque inválido. O valor do saque não pode ser negativo ou maior do que R$ 500.00.\n"
     ]
    }
   ],
   "source": [
    "df = operacao_saque(1500, df)"
   ]
  },
  {
   "cell_type": "markdown",
   "metadata": {},
   "source": [
    "### Testar um saque inválido (valor negativo)"
   ]
  },
  {
   "cell_type": "code",
   "execution_count": 74,
   "metadata": {},
   "outputs": [
    {
     "name": "stdout",
     "output_type": "stream",
     "text": [
      "Valor de saque inválido. O valor do saque não pode ser negativo ou maior do que R$ 500.00.\n"
     ]
    }
   ],
   "source": [
    "df = operacao_saque(-50, df)"
   ]
  },
  {
   "cell_type": "markdown",
   "metadata": {},
   "source": [
    "### Testar um saque inválido (limite diário de saques atingido)"
   ]
  },
  {
   "cell_type": "code",
   "execution_count": 75,
   "metadata": {},
   "outputs": [
    {
     "name": "stdout",
     "output_type": "stream",
     "text": [
      "Saque realizado em: 20/02/2024 08:27\n",
      "Saque no valor de R$ 100.00 realizado com sucesso.\n",
      "Saque realizado em: 20/02/2024 08:27\n",
      "Saque no valor de R$ 100.00 realizado com sucesso.\n",
      "Limite diário de saques atingido. Você já realizou 3 saques hoje.\n",
      "Limite diário de saques atingido. Você já realizou 3 saques hoje.\n"
     ]
    }
   ],
   "source": [
    "df = operacao_saque(100, df)\n",
    "df = operacao_saque(100, df)\n",
    "df = operacao_saque(100, df)\n",
    "df = operacao_saque(100, df)"
   ]
  },
  {
   "cell_type": "markdown",
   "metadata": {},
   "source": [
    "## Extrato"
   ]
  },
  {
   "cell_type": "code",
   "execution_count": 76,
   "metadata": {},
   "outputs": [
    {
     "name": "stdout",
     "output_type": "stream",
     "text": [
      "Extrato de transações:\n",
      "Depósito: R$ 2000.00 - Data/Hora: 20/02/2024 08:27\n",
      "Depósito: R$ 100.50 - Data/Hora: 20/02/2024 08:27\n",
      "Saque: R$ 200.00 - Data/Hora: 20/02/2024 08:27\n",
      "Saque: R$ 100.00 - Data/Hora: 20/02/2024 08:27\n",
      "Saque: R$ 100.00 - Data/Hora: 20/02/2024 08:27\n",
      "\n",
      "Saldo atual da conta: R$ 1700.50\n"
     ]
    }
   ],
   "source": [
    "operacao_extrato(df)"
   ]
  }
 ],
 "metadata": {
  "kernelspec": {
   "display_name": "Python 3",
   "language": "python",
   "name": "python3"
  },
  "language_info": {
   "codemirror_mode": {
    "name": "ipython",
    "version": 3
   },
   "file_extension": ".py",
   "mimetype": "text/x-python",
   "name": "python",
   "nbconvert_exporter": "python",
   "pygments_lexer": "ipython3",
   "version": "3.11.4"
  }
 },
 "nbformat": 4,
 "nbformat_minor": 2
}
